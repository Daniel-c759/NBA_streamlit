{
 "cells": [
  {
   "cell_type": "code",
   "execution_count": 2,
   "id": "40645ab9",
   "metadata": {},
   "outputs": [],
   "source": [
    "import mysql.connector as connection"
   ]
  },
  {
   "cell_type": "code",
   "execution_count": null,
   "id": "ba002e27",
   "metadata": {},
   "outputs": [],
   "source": [
    "try:\n",
    "    mydb=connection.connect(\n",
    "    host=\"localhost\",\n",
    "    user=\"root\",\n",
    "    passwd=\"daniel97\",\n",
    "    use_pure=True)\n",
    "    #Se mira si hay conexión\n",
    "    \n",
    "    query=\"create database Test\"\n",
    "    \n",
    "    cursor=mydb.cursor() #Cursor para aplicar queries\n",
    "    cursor.execute(query)\n",
    "    print(cursor.fetchall())\n",
    "    \n",
    "except Exception as e:\n",
    "    mydb.close()\n",
    "    print(str(e))"
   ]
  }
 ],
 "metadata": {
  "kernelspec": {
   "display_name": "Python 3 (ipykernel)",
   "language": "python",
   "name": "python3"
  },
  "language_info": {
   "codemirror_mode": {
    "name": "ipython",
    "version": 3
   },
   "file_extension": ".py",
   "mimetype": "text/x-python",
   "name": "python",
   "nbconvert_exporter": "python",
   "pygments_lexer": "ipython3",
   "version": "3.8.10"
  }
 },
 "nbformat": 4,
 "nbformat_minor": 5
}
