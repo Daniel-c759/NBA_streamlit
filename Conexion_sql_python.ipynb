{
 "cells": [
  {
   "cell_type": "markdown",
   "id": "7007535d",
   "metadata": {},
   "source": [
    "# Notebook para conexión con las bases"
   ]
  },
  {
   "cell_type": "markdown",
   "id": "d1e950dc",
   "metadata": {},
   "source": [
    "Este notebook inicialmente consiste en un ejemplo pequeño para aprender a utilizar **mysql** desde **python**, realizando una query para crear una base de datos llamada *test*"
   ]
  },
  {
   "cell_type": "markdown",
   "id": "f8ceeb7e",
   "metadata": {},
   "source": [
    "### Ejemplo de conexión"
   ]
  },
  {
   "cell_type": "code",
   "execution_count": 5,
   "id": "b0855177",
   "metadata": {},
   "outputs": [],
   "source": [
    "import mysql.connector as connection\n",
    "import pandas as pd"
   ]
  },
  {
   "cell_type": "code",
   "execution_count": 4,
   "id": "aa302f06",
   "metadata": {},
   "outputs": [
    {
     "name": "stdout",
     "output_type": "stream",
     "text": [
      "1007 (HY000): Can't create database 'Test'; database exists\n"
     ]
    }
   ],
   "source": [
    "try:\n",
    "    mydb=connection.connect(\n",
    "    host=\"localhost\",\n",
    "    user=\"root\",\n",
    "    passwd=\"daniel97\",\n",
    "    use_pure=True)\n",
    "    #Se mira si hay conexión\n",
    "    \n",
    "    query=\"create database Test\"\n",
    "    \n",
    "    cursor=mydb.cursor() #Cursor para aplicar queries\n",
    "    cursor.execute(query)\n",
    "    print(cursor.fetchall())\n",
    "    \n",
    "except Exception as e:\n",
    "    mydb.close()\n",
    "    print(str(e))"
   ]
  },
  {
   "cell_type": "markdown",
   "id": "15109001",
   "metadata": {},
   "source": [
    "## Conexión base de datos NBA"
   ]
  },
  {
   "cell_type": "markdown",
   "id": "ca869075",
   "metadata": {},
   "source": [
    "En esta parte nos conectamos a la base de datos NBA creada dentro de MySQL por medio de Workbench"
   ]
  },
  {
   "cell_type": "code",
   "execution_count": 7,
   "id": "7758d3b3",
   "metadata": {},
   "outputs": [],
   "source": [
    "NBA=connection.connect(\n",
    "    host=\"localhost\",\n",
    "    user=\"root\",\n",
    "    passwd=\"daniel97\",\n",
    "    db=\"NBA\"\n",
    ")"
   ]
  },
  {
   "cell_type": "code",
   "execution_count": 10,
   "id": "39d0e8ab",
   "metadata": {},
   "outputs": [],
   "source": [
    "tabla=\"games\"\n",
    "query=f\"\"\"\n",
    "select SEASON as temporada,\n",
    "    count(SEASON) as conteo\n",
    "from NBA.{tabla}\n",
    "group by SEASON\n",
    "order by SEASON desc\n",
    "\"\"\""
   ]
  },
  {
   "cell_type": "code",
   "execution_count": 11,
   "id": "36132fbc",
   "metadata": {},
   "outputs": [],
   "source": [
    "temporadas=pd.read_sql_query(query,NBA)"
   ]
  },
  {
   "cell_type": "code",
   "execution_count": 12,
   "id": "f8985b72",
   "metadata": {},
   "outputs": [
    {
     "data": {
      "text/html": [
       "<div>\n",
       "<style scoped>\n",
       "    .dataframe tbody tr th:only-of-type {\n",
       "        vertical-align: middle;\n",
       "    }\n",
       "\n",
       "    .dataframe tbody tr th {\n",
       "        vertical-align: top;\n",
       "    }\n",
       "\n",
       "    .dataframe thead th {\n",
       "        text-align: right;\n",
       "    }\n",
       "</style>\n",
       "<table border=\"1\" class=\"dataframe\">\n",
       "  <thead>\n",
       "    <tr style=\"text-align: right;\">\n",
       "      <th></th>\n",
       "      <th>temporada</th>\n",
       "      <th>conteo</th>\n",
       "    </tr>\n",
       "  </thead>\n",
       "  <tbody>\n",
       "    <tr>\n",
       "      <th>0</th>\n",
       "      <td>2022</td>\n",
       "      <td>542</td>\n",
       "    </tr>\n",
       "    <tr>\n",
       "      <th>1</th>\n",
       "      <td>2021</td>\n",
       "      <td>1389</td>\n",
       "    </tr>\n",
       "    <tr>\n",
       "      <th>2</th>\n",
       "      <td>2020</td>\n",
       "      <td>1249</td>\n",
       "    </tr>\n",
       "    <tr>\n",
       "      <th>3</th>\n",
       "      <td>2019</td>\n",
       "      <td>1241</td>\n",
       "    </tr>\n",
       "    <tr>\n",
       "      <th>4</th>\n",
       "      <td>2018</td>\n",
       "      <td>1378</td>\n",
       "    </tr>\n",
       "    <tr>\n",
       "      <th>5</th>\n",
       "      <td>2017</td>\n",
       "      <td>1382</td>\n",
       "    </tr>\n",
       "    <tr>\n",
       "      <th>6</th>\n",
       "      <td>2016</td>\n",
       "      <td>1405</td>\n",
       "    </tr>\n",
       "    <tr>\n",
       "      <th>7</th>\n",
       "      <td>2015</td>\n",
       "      <td>1416</td>\n",
       "    </tr>\n",
       "    <tr>\n",
       "      <th>8</th>\n",
       "      <td>2014</td>\n",
       "      <td>1418</td>\n",
       "    </tr>\n",
       "    <tr>\n",
       "      <th>9</th>\n",
       "      <td>2013</td>\n",
       "      <td>1427</td>\n",
       "    </tr>\n",
       "    <tr>\n",
       "      <th>10</th>\n",
       "      <td>2012</td>\n",
       "      <td>1420</td>\n",
       "    </tr>\n",
       "    <tr>\n",
       "      <th>11</th>\n",
       "      <td>2011</td>\n",
       "      <td>1104</td>\n",
       "    </tr>\n",
       "    <tr>\n",
       "      <th>12</th>\n",
       "      <td>2010</td>\n",
       "      <td>1422</td>\n",
       "    </tr>\n",
       "    <tr>\n",
       "      <th>13</th>\n",
       "      <td>2009</td>\n",
       "      <td>1424</td>\n",
       "    </tr>\n",
       "    <tr>\n",
       "      <th>14</th>\n",
       "      <td>2008</td>\n",
       "      <td>1425</td>\n",
       "    </tr>\n",
       "    <tr>\n",
       "      <th>15</th>\n",
       "      <td>2007</td>\n",
       "      <td>1411</td>\n",
       "    </tr>\n",
       "    <tr>\n",
       "      <th>16</th>\n",
       "      <td>2006</td>\n",
       "      <td>1419</td>\n",
       "    </tr>\n",
       "    <tr>\n",
       "      <th>17</th>\n",
       "      <td>2005</td>\n",
       "      <td>1432</td>\n",
       "    </tr>\n",
       "    <tr>\n",
       "      <th>18</th>\n",
       "      <td>2004</td>\n",
       "      <td>1362</td>\n",
       "    </tr>\n",
       "    <tr>\n",
       "      <th>19</th>\n",
       "      <td>2003</td>\n",
       "      <td>1286</td>\n",
       "    </tr>\n",
       "  </tbody>\n",
       "</table>\n",
       "</div>"
      ],
      "text/plain": [
       "    temporada  conteo\n",
       "0        2022     542\n",
       "1        2021    1389\n",
       "2        2020    1249\n",
       "3        2019    1241\n",
       "4        2018    1378\n",
       "5        2017    1382\n",
       "6        2016    1405\n",
       "7        2015    1416\n",
       "8        2014    1418\n",
       "9        2013    1427\n",
       "10       2012    1420\n",
       "11       2011    1104\n",
       "12       2010    1422\n",
       "13       2009    1424\n",
       "14       2008    1425\n",
       "15       2007    1411\n",
       "16       2006    1419\n",
       "17       2005    1432\n",
       "18       2004    1362\n",
       "19       2003    1286"
      ]
     },
     "execution_count": 12,
     "metadata": {},
     "output_type": "execute_result"
    }
   ],
   "source": [
    "temporadas"
   ]
  }
 ],
 "metadata": {
  "kernelspec": {
   "display_name": "Python 3 (ipykernel)",
   "language": "python",
   "name": "python3"
  },
  "language_info": {
   "codemirror_mode": {
    "name": "ipython",
    "version": 3
   },
   "file_extension": ".py",
   "mimetype": "text/x-python",
   "name": "python",
   "nbconvert_exporter": "python",
   "pygments_lexer": "ipython3",
   "version": "3.8.10"
  }
 },
 "nbformat": 4,
 "nbformat_minor": 5
}
